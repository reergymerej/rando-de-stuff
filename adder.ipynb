{
 "cells": [
  {
   "cell_type": "code",
   "execution_count": 1,
   "id": "3a4fc9ae",
   "metadata": {},
   "outputs": [],
   "source": [
    "def adder(num: int):\n",
    "    return lambda x: x + num"
   ]
  },
  {
   "cell_type": "code",
   "execution_count": 2,
   "id": "50fdfb06",
   "metadata": {},
   "outputs": [],
   "source": [
    "add2 = adder(2)"
   ]
  },
  {
   "cell_type": "code",
   "execution_count": 3,
   "id": "95f6d40e",
   "metadata": {},
   "outputs": [],
   "source": [
    "add99 = adder(99)"
   ]
  },
  {
   "cell_type": "code",
   "execution_count": 4,
   "id": "32f80e8c",
   "metadata": {},
   "outputs": [
    {
     "data": {
      "text/plain": [
       "10"
      ]
     },
     "execution_count": 4,
     "metadata": {},
     "output_type": "execute_result"
    }
   ],
   "source": [
    "add2(8)"
   ]
  },
  {
   "cell_type": "code",
   "execution_count": 5,
   "id": "13ae08cc",
   "metadata": {},
   "outputs": [
    {
     "data": {
      "text/plain": [
       "100"
      ]
     },
     "execution_count": 5,
     "metadata": {},
     "output_type": "execute_result"
    }
   ],
   "source": [
    "add99(1)"
   ]
  }
 ],
 "metadata": {
  "kernelspec": {
   "display_name": "Python 3 (ipykernel)",
   "language": "python",
   "name": "python3"
  },
  "language_info": {
   "codemirror_mode": {
    "name": "ipython",
    "version": 3
   },
   "file_extension": ".py",
   "mimetype": "text/x-python",
   "name": "python",
   "nbconvert_exporter": "python",
   "pygments_lexer": "ipython3",
   "version": "3.7.10"
  },
  "widgets": {
   "application/vnd.jupyter.widget-state+json": {
    "state": {},
    "version_major": 2,
    "version_minor": 0
   }
  }
 },
 "nbformat": 4,
 "nbformat_minor": 5
}
